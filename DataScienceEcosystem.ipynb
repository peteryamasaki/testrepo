{
 "cells": [
  {
   "cell_type": "markdown",
   "id": "694e4e06-7858-4944-aa90-58035b8b1867",
   "metadata": {},
   "source": [
    "# Data Science Tools and Ecosystem"
   ]
  },
  {
   "cell_type": "markdown",
   "id": "ef8e6041-93e8-4c4c-9848-ed16dd0edae3",
   "metadata": {},
   "source": [
    "In this notebook data science tools and ecosystems are summarized"
   ]
  },
  {
   "cell_type": "markdown",
   "id": "324abb75-82e7-4226-9335-e100092777b1",
   "metadata": {},
   "source": [
    "Some of the popular languages data scientist use are:\n",
    "1. Python\n",
    "2. R\n",
    "3. C++"
   ]
  },
  {
   "cell_type": "markdown",
   "id": "752ae766-7d0b-4344-bdaa-b8b209956c86",
   "metadata": {},
   "source": [
    "Some of the commonly used libraries used by data scientists are:\n",
    "1. Numby\n",
    "2. Caret\n",
    "3. TensorFlow"
   ]
  },
  {
   "cell_type": "markdown",
   "id": "55d165ee-0ef7-48b3-8afe-493543318fbf",
   "metadata": {},
   "source": [
    "| Data Science Tools |\n",
    "|--------------------|\n",
    "| Jupyter|\n",
    "|GitHub|\n",
    "|R-Studio|\n"
   ]
  },
  {
   "cell_type": "markdown",
   "id": "7b014bb5-d0cf-4cf7-b4ca-9555616e8fd7",
   "metadata": {},
   "source": [
    "## Below are a few examples of evaluating arithmetic expressions in Python"
   ]
  },
  {
   "cell_type": "code",
   "execution_count": 2,
   "id": "a6aa5928-70ad-45b5-b35e-b7eee19df6f5",
   "metadata": {},
   "outputs": [
    {
     "data": {
      "text/plain": [
       "17"
      ]
     },
     "execution_count": 2,
     "metadata": {},
     "output_type": "execute_result"
    }
   ],
   "source": [
    "#This a simple arithmetic expression to multiply then add integers\n",
    "(3*4)+5"
   ]
  },
  {
   "cell_type": "code",
   "execution_count": 3,
   "id": "aed26cf9-3f01-4b96-bddd-daa14b189b5f",
   "metadata": {},
   "outputs": [
    {
     "data": {
      "text/plain": [
       "3.3333333333333335"
      ]
     },
     "execution_count": 3,
     "metadata": {},
     "output_type": "execute_result"
    }
   ],
   "source": [
    "#This will convert 200 minutes to hours by diving by 60\n",
    "200/60"
   ]
  },
  {
   "cell_type": "markdown",
   "id": "a225961c-3a2f-4dd2-a102-68466ebfd69e",
   "metadata": {},
   "source": [
    "**Objectives**\n",
    "* List different coding languages\n",
    "* List different coding environments\n",
    "* List different data science libraries\n"
   ]
  },
  {
   "cell_type": "markdown",
   "id": "114e17b6-b1ba-4113-a195-37cedafa8886",
   "metadata": {},
   "source": [
    "## Author\n",
    "Peter Yamasaki"
   ]
  },
  {
   "cell_type": "code",
   "execution_count": null,
   "id": "75f73ab0-2654-484f-89d4-5b96633c8fa8",
   "metadata": {},
   "outputs": [],
   "source": []
  }
 ],
 "metadata": {
  "kernelspec": {
   "display_name": "Python 3 (ipykernel)",
   "language": "python",
   "name": "python3"
  },
  "language_info": {
   "codemirror_mode": {
    "name": "ipython",
    "version": 3
   },
   "file_extension": ".py",
   "mimetype": "text/x-python",
   "name": "python",
   "nbconvert_exporter": "python",
   "pygments_lexer": "ipython3",
   "version": "3.12.8"
  }
 },
 "nbformat": 4,
 "nbformat_minor": 5
}
